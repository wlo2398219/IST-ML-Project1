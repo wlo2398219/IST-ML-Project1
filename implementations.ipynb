{
 "cells": [
  {
   "cell_type": "code",
   "execution_count": 169,
   "metadata": {},
   "outputs": [
    {
     "name": "stdout",
     "output_type": "stream",
     "text": [
      "The autoreload extension is already loaded. To reload it, use:\n",
      "  %reload_ext autoreload\n"
     ]
    }
   ],
   "source": [
    "%matplotlib inline\n",
    "import numpy as np\n",
    "import matplotlib.pyplot as plt\n",
    "\n",
    "from scripts.proj1_helpers import *\n",
    "from scripts.preprocess import *\n",
    "\n",
    "from scripts.split_data import *\n",
    "from scripts.model_testing import *\n",
    "from scripts.cross_validation import *\n",
    "\n",
    "from scripts.implementations import least_squares_GD\n",
    "from scripts.implementations import least_squares_SGD\n",
    "from scripts.implementations import least_squares\n",
    "from scripts.implementations import ridge_regression\n",
    "from scripts.implementations import logistic_regression\n",
    "from scripts.implementations import reg_logistic_regression\n",
    "\n",
    "%load_ext autoreload\n",
    "%autoreload 2"
   ]
  },
  {
   "cell_type": "code",
   "execution_count": 170,
   "metadata": {
    "collapsed": true
   },
   "outputs": [],
   "source": [
    "# load data\n",
    "raw_y, raw_x, ind = load_csv_data('higgs-data/train.csv')"
   ]
  },
  {
   "cell_type": "markdown",
   "metadata": {},
   "source": [
    "## * Data Processing\n",
    "1. Based on PRI_JET_NUM (feature 22), which ranged in value of inclusive [0,4], we devide the training data into 4 sets. From each sets we obtain exactly one model (w0/w1/w2/w4). E.g. for PRI_JET_NUM=0 we will get w0.\n",
    "2. We standardize the data using power terms."
   ]
  },
  {
   "cell_type": "markdown",
   "metadata": {},
   "source": [
    "### Creating Subsets"
   ]
  },
  {
   "cell_type": "code",
   "execution_count": 171,
   "metadata": {},
   "outputs": [],
   "source": [
    "def create_subsets(x, y):\n",
    "    sets_x = []\n",
    "    sets_y = []\n",
    "    for pri_jet_num_val in np.unique(x[:,22]):\n",
    "        indices = (x[:,22] == pri_jet_num_val)\n",
    "        x_tmp   = x[indices,:]\n",
    "        y_tmp   = y[indices]\n",
    "        \n",
    "        sets_x.append(x_tmp)\n",
    "        sets_y.append(y_tmp)\n",
    "        \n",
    "        #         indices = (x[:,22] == pri_jet_num_val) & (x[:,0] != -999)\n",
    "        #         x_tmp   = x[indices,:]\n",
    "        #         y_tmp   = y[indices]\n",
    "\n",
    "        #         sets_x.append(x_tmp)\n",
    "        #         sets_y.append(y_tmp)\n",
    "\n",
    "        #         indices = (x[:,22] == pri_jet_num_val) & (x[:,0] == -999)\n",
    "        #         x_tmp   = x[indices,:]\n",
    "        #         y_tmp   = y[indices]\n",
    "\n",
    "        #         sets_x.append(x_tmp)\n",
    "        #         sets_y.append(y_tmp)\n",
    "        \n",
    "    return sets_x, sets_y\n",
    "\n",
    "sets_x, sets_y = create_subsets(raw_x, raw_y)\n",
    "\n",
    "# Dataset 0 where PRI_JET_NUM = 0\n",
    "x0 = sets_x[0]\n",
    "y0 = sets_y[0]\n",
    "\n",
    "# Dataset 1 where PRI_JET_NUM = 1\n",
    "x1 = sets_x[1]\n",
    "y1 = sets_y[1]\n",
    "\n",
    "# Dataset 2 where PRI_JET_NUM = 2\n",
    "x2 = sets_x[2]\n",
    "y2 = sets_y[2]\n",
    "\n",
    "# Dataset 3 where PRI_JET_NUM = 3\n",
    "x3 = sets_x[3]\n",
    "y3 = sets_y[3]\n",
    "\n",
    "# x00 = sets_x[0]\n",
    "# y00 = sets_y[0]\n",
    "\n",
    "# x01 = sets_x[1]\n",
    "# y01 = sets_y[1]\n",
    "\n",
    "# x10 = sets_x[2]\n",
    "# y10 = sets_y[2]\n",
    "\n",
    "# x11 = sets_x[3]\n",
    "# y11 = sets_y[3]\n",
    "\n",
    "# x20 = sets_x[4]\n",
    "# y20 = sets_y[4]\n",
    "\n",
    "# x21 = sets_x[5]\n",
    "# y21 = sets_y[5]\n",
    "\n",
    "# x30 = sets_x[6]\n",
    "# y30 = sets_y[6]\n",
    "\n",
    "# x31 = sets_x[7]\n",
    "# y31 = sets_y[7]\n"
   ]
  },
  {
   "cell_type": "code",
   "execution_count": 54,
   "metadata": {},
   "outputs": [
    {
     "data": {
      "text/plain": [
       "array([[-999.   ,   79.589,   23.916, ..., -999.   , -999.   ,    0.   ],\n",
       "       [ 106.398,   67.49 ,   87.949, ..., -999.   , -999.   ,   47.575],\n",
       "       [ 117.794,   56.226,   96.358, ..., -999.   , -999.   ,    0.   ],\n",
       "       ..., \n",
       "       [ 108.497,    9.837,   65.149, ..., -999.   , -999.   ,    0.   ],\n",
       "       [  96.711,   20.006,   66.942, ..., -999.   , -999.   ,   30.863],\n",
       "       [  92.373,   80.109,   77.619, ..., -999.   , -999.   ,    0.   ]])"
      ]
     },
     "execution_count": 54,
     "metadata": {},
     "output_type": "execute_result"
    }
   ],
   "source": [
    "raw_x"
   ]
  },
  {
   "cell_type": "markdown",
   "metadata": {},
   "source": [
    "### Features Reduction"
   ]
  },
  {
   "cell_type": "code",
   "execution_count": 172,
   "metadata": {},
   "outputs": [],
   "source": [
    "# if PRI_JET_NUM = 0\n",
    "# We drop features 4, 5, 6, 11, 12, 15, 18, 20, 22, 23, 24, 25, 26, 27, 28, 29 \n",
    "x0 = np.delete(x0, [4, 5, 6, 11, 12, 15, 18, 20, 22, 23, 24, 25, 26, 27, 28, 29], 1)\n",
    "\n",
    "# if PRI_JET_NUM = 1\n",
    "# We drop features 4, 5, 6, 11, 12, 15, 18, 20, 22, 26, 27, 28 \n",
    "x1 = np.delete(x1, [4, 5, 6, 11, 12, 15, 18, 20, 22, 26, 27, 28], 1)\n",
    "\n",
    "# if PRI_JET_NUM == 2 or PRI_JET_NUM == 3\n",
    "# We drop features 11, 15, 18, 20, 22, 28\n",
    "x2 = np.delete(x2, [11, 15, 18, 20, 22, 28], 1)\n",
    "x3 = np.delete(x3, [11, 15, 18, 20, 22, 28], 1)\n",
    "\n",
    "\n",
    "# x00 = np.delete(x00, [4, 5, 6, 11, 12, 15, 18, 20, 22, 23, 24, 25, 26, 27, 28, 29], 1)\n",
    "# x01 = np.delete(x01, [0, 4, 5, 6, 11, 12, 15, 18, 20, 22, 23, 24, 25, 26, 27, 28, 29], 1)\n",
    "# x10 = np.delete(x10, [4, 5, 6, 11, 12, 15, 18, 20, 22, 26, 27, 28], 1)\n",
    "# x11 = np.delete(x11, [0, 4, 5, 6, 11, 12, 15, 18, 20, 22, 26, 27, 28], 1)\n",
    "# x20 = np.delete(x20, [11, 15, 18, 20, 22, 28], 1)\n",
    "# x21 = np.delete(x21, [0, 11, 15, 18, 20, 22, 28], 1)\n",
    "# x30 = np.delete(x30, [11, 15, 18, 20, 22, 28], 1)\n",
    "# x31 = np.delete(x31, [0, 11, 15, 18, 20, 22, 28], 1)"
   ]
  },
  {
   "cell_type": "code",
   "execution_count": 86,
   "metadata": {},
   "outputs": [],
   "source": [
    "# x10.shape\n",
    "import pandas as pd"
   ]
  },
  {
   "cell_type": "code",
   "execution_count": 142,
   "metadata": {
    "scrolled": true
   },
   "outputs": [],
   "source": [
    "# data = pd.DataFrame(x00)\n",
    "# # data\n",
    "# data = 1/1+np.log(1+data)\n",
    "# data['y'] = y00\n",
    "# data.corr()"
   ]
  },
  {
   "cell_type": "code",
   "execution_count": 143,
   "metadata": {},
   "outputs": [],
   "source": [
    "# data = pd.DataFrame(x01)\n",
    "# data['y'] = y01\n",
    "# # data\n",
    "# data.corr()\n",
    "# # len(data[data.index == -1])\n",
    "# # len(data) -len(data[data.index == -1])"
   ]
  },
  {
   "cell_type": "markdown",
   "metadata": {},
   "source": [
    "### Data Standarization Using Power Terms"
   ]
  },
  {
   "cell_type": "code",
   "execution_count": 173,
   "metadata": {},
   "outputs": [],
   "source": [
    "standardize_x0 = standardize_with_power_terms(x0, 2, True, with_sqrt=True)\n",
    "\n",
    "standardize_x1 = standardize_with_power_terms(x1, 2, True, with_sqrt=True)\n",
    "\n",
    "standardize_x2 = standardize_with_power_terms(x2, 2, True, with_sqrt=True)\n",
    "\n",
    "standardize_x3 = standardize_with_power_terms(x3, 2, True, with_sqrt=True)\n",
    "\n",
    "# standardize_x00 = standardize_with_power_terms(x00, 4, True, with_sqrt=False)\n",
    "# standardize_x01 = standardize_with_power_terms(x01, 4, True, with_sqrt=False)\n",
    "# standardize_x10 = standardize_with_power_terms(x10, 4, True, with_sqrt=False)\n",
    "# standardize_x11 = standardize_with_power_terms(x11, 4, True, with_sqrt=False)\n",
    "# standardize_x20 = standardize_with_power_terms(x20, 4, True, with_sqrt=False)\n",
    "# standardize_x21 = standardize_with_power_terms(x21, 4, True, with_sqrt=False)\n",
    "# standardize_x30 = standardize_with_power_terms(x30, 4, True, with_sqrt=False)\n",
    "# standardize_x31 = standardize_with_power_terms(x31, 4, True, with_sqrt=False)\n",
    "\n",
    "# standardize_x00 = standardize_with_power_terms(x00, 2, True, with_sqrt=True)\n",
    "# standardize_x01 = standardize_with_power_terms(x01, 2, True, with_sqrt=True)\n",
    "# standardize_x10 = standardize_with_power_terms(x10, 2, True, with_sqrt=True)\n",
    "# standardize_x11 = standardize_with_power_terms(x11, 2, True, with_sqrt=True)\n",
    "# standardize_x20 = standardize_with_power_terms(x20, 2, True, with_sqrt=True)\n",
    "# standardize_x21 = standardize_with_power_terms(x21, 2, True, with_sqrt=True)\n",
    "# standardize_x30 = standardize_with_power_terms(x30, 2, True, with_sqrt=True)\n",
    "# standardize_x31 = standardize_with_power_terms(x31, 2, True, with_sqrt=True)\n",
    "\n"
   ]
  },
  {
   "cell_type": "markdown",
   "metadata": {},
   "source": [
    "# Main Implementations"
   ]
  },
  {
   "cell_type": "code",
   "execution_count": 174,
   "metadata": {
    "collapsed": true
   },
   "outputs": [],
   "source": [
    "# Final Datasets\n",
    "standardize_x = [standardize_x0, standardize_x1, standardize_x2, standardize_x3]\n",
    "sets_y        = [y0, y1, y2, y3]\n",
    "\n",
    "# standardize_x = [standardize_x00, standardize_x01, standardize_x10, standardize_x11, \\\n",
    "#                  standardize_x20, standardize_x21, standardize_x30, standardize_x31]\n",
    "# sets_y        = [y00, y01, y10, y11, y20, y21, y30, y31]\n",
    "\n",
    "\n",
    "# Define the parameters of the algorithm.\n",
    "max_iters = 5000\n",
    "gamma     = 0.000002\n",
    "lambda_   = 0.000001"
   ]
  },
  {
   "cell_type": "markdown",
   "metadata": {},
   "source": [
    "## 1. Least Squares Using Gradient Descent"
   ]
  },
  {
   "cell_type": "code",
   "execution_count": 8,
   "metadata": {},
   "outputs": [
    {
     "name": "stdout",
     "output_type": "stream",
     "text": [
      "0.73913304575\n",
      "0.680697410502\n",
      "0.704063200937\n",
      "0.682097094387\n"
     ]
    }
   ],
   "source": [
    "ws_1 = []\n",
    "for x, y in zip(standardize_x, sets_y):\n",
    "    initial_w = np.zeros(x.shape[1])\n",
    "    w, loss   = least_squares_GD(y, x, initial_w, max_iters, gamma)\n",
    "    print(np.mean(predict_labels(w, x) == y))\n",
    "    ws_1.append(w)\n",
    "    "
   ]
  },
  {
   "cell_type": "markdown",
   "metadata": {},
   "source": [
    "## 2. Least Squares Using Stochastic Gradient Descent"
   ]
  },
  {
   "cell_type": "code",
   "execution_count": 9,
   "metadata": {},
   "outputs": [
    {
     "name": "stdout",
     "output_type": "stream",
     "text": [
      "0.738942880306\n",
      "0.680142886619\n",
      "0.704380793585\n",
      "0.682818985743\n"
     ]
    }
   ],
   "source": [
    "ws_2 = []\n",
    "for x, y in zip(standardize_x, sets_y):\n",
    "    initial_w = np.zeros(x.shape[1])\n",
    "    w, loss   = least_squares_SGD(y, x, initial_w, max_iters, gamma)\n",
    "    print(np.mean(predict_labels(w, x) == y))\n",
    "    ws_2.append(w)\n",
    "    "
   ]
  },
  {
   "cell_type": "markdown",
   "metadata": {},
   "source": [
    "## 3. Least Squares Using Normal Equations"
   ]
  },
  {
   "cell_type": "code",
   "execution_count": 10,
   "metadata": {},
   "outputs": [
    {
     "name": "stdout",
     "output_type": "stream",
     "text": [
      "0.833455105942\n",
      "0.775572578149\n",
      "0.804898866591\n",
      "0.802201768634\n"
     ]
    }
   ],
   "source": [
    "ws_3 = []\n",
    "for x, y in zip(standardize_x, sets_y):\n",
    "    w, loss = least_squares(y, x)\n",
    "    print(np.mean(predict_labels(w, x) == y))\n",
    "    ws_3.append(w)\n",
    "    "
   ]
  },
  {
   "cell_type": "markdown",
   "metadata": {},
   "source": [
    "## 4. Ridge Regression"
   ]
  },
  {
   "cell_type": "code",
   "execution_count": 24,
   "metadata": {},
   "outputs": [
    {
     "name": "stdout",
     "output_type": "stream",
     "text": [
      "0.833224905668\n",
      "0.775753120809\n",
      "0.804938565672\n",
      "0.801524995488\n"
     ]
    }
   ],
   "source": [
    "ws_4 = []\n",
    "for x, y in zip(standardize_x, sets_y):\n",
    "    w, loss = ridge_regression(y, x, lambda_)\n",
    "    print(np.mean(predict_labels(w, x) == y))\n",
    "    ws_4.append(w)\n",
    "    "
   ]
  },
  {
   "cell_type": "markdown",
   "metadata": {},
   "source": [
    "## 5. Logistic Regression using Gradient Descent"
   ]
  },
  {
   "cell_type": "code",
   "execution_count": 175,
   "metadata": {},
   "outputs": [
    {
     "name": "stdout",
     "output_type": "stream",
     "text": [
      "0.841422037172\n",
      "0.797701949861\n",
      "0.823537585105\n",
      "0.815466522288\n"
     ]
    }
   ],
   "source": [
    "ws_5 = []\n",
    "for x, y in zip(standardize_x, sets_y):\n",
    "    #map y to value of either zero or one\n",
    "    mapped_y = (y+1)/2\n",
    "    \n",
    "    initial_w = np.zeros(x.shape[1])\n",
    "    w, loss   = logistic_regression(mapped_y, x, initial_w, max_iters, gamma)\n",
    "    \n",
    "    print(np.mean(predict_labels(w, x) == y))\n",
    "    ws_5.append(w)\n",
    "    \n",
    "# 0.840711418934\n",
    "# 0.794826163211\n",
    "# 0.822485559459\n",
    "# 0.812939902545"
   ]
  },
  {
   "cell_type": "markdown",
   "metadata": {},
   "source": [
    "## 6. Regularized Logistic Regression using Gradient Descent"
   ]
  },
  {
   "cell_type": "code",
   "execution_count": 29,
   "metadata": {},
   "outputs": [
    {
     "name": "stdout",
     "output_type": "stream",
     "text": [
      "0.840991662747\n",
      "0.794955122253\n",
      "0.822068719109\n",
      "0.81361667569\n"
     ]
    }
   ],
   "source": [
    "ws_6 = []\n",
    "for x, y in zip(standardize_x, sets_y):\n",
    "    #map y to value of either zero or one\n",
    "    mapped_y = (y+1)/2\n",
    "    \n",
    "    initial_w = np.zeros(x.shape[1])\n",
    "    w, loss   = reg_logistic_regression(mapped_y, x, initial_w, max_iters, gamma, lambda_)\n",
    "    \n",
    "    print(np.mean(predict_labels(w, x) == y))\n",
    "    ws_6.append(w)\n",
    "    "
   ]
  },
  {
   "cell_type": "markdown",
   "metadata": {},
   "source": [
    "# Testing and Make Submission to Kaggle"
   ]
  },
  {
   "cell_type": "code",
   "execution_count": 51,
   "metadata": {},
   "outputs": [
    {
     "data": {
      "text/plain": [
       "(158095, 61)"
      ]
     },
     "execution_count": 51,
     "metadata": {},
     "output_type": "execute_result"
    }
   ],
   "source": [
    "standardize_x10.shape\n",
    "# mask = (raw_x[:, 22] == 1) & (raw_x[:, 0] != -999)\n",
    "# mask.shape\n",
    "# len(ws_5[2])"
   ]
  },
  {
   "cell_type": "code",
   "execution_count": 68,
   "metadata": {},
   "outputs": [],
   "source": [
    "y_pred = np.ones(len(raw_y))\n",
    "w00, w01, w10, w11, w20, w21, w30, w31 = ws_5[0], ws_5[1], ws_5[2], ws_5[3], ws_5[4], ws_5[5], ws_5[6], ws_5[7]\n",
    "\n",
    "mask = (raw_x[:, 22] == 0) & (raw_x[:, 0] != -999)\n",
    "y_pred[mask] = predict_labels(w00, standardize_x00)\n",
    "mask = (raw_x[:, 22] == 0) & (raw_x[:, 0] == -999)\n",
    "y_pred[mask] = predict_labels(w01, standardize_x01)\n",
    "mask = (raw_x[:, 22] == 1) & (raw_x[:, 0] != -999)\n",
    "y_pred[mask] = predict_labels(w10, standardize_x10)\n",
    "mask = (raw_x[:, 22] == 1) & (raw_x[:, 0] == -999)\n",
    "y_pred[mask] = predict_labels(w11, standardize_x11)\n",
    "mask = (raw_x[:, 22] == 2) & (raw_x[:, 0] != -999)\n",
    "y_pred[mask] = predict_labels(w20, standardize_x20)\n",
    "mask = (raw_x[:, 22] == 2) & (raw_x[:, 0] == -999)\n",
    "y_pred[mask] = predict_labels(w21, standardize_x21)\n",
    "mask = (raw_x[:, 22] == 3) & (raw_x[:, 0] != -999)\n",
    "y_pred[mask] = predict_labels(w30, standardize_x30)\n",
    "mask = (raw_x[:, 22] == 3) & (raw_x[:, 0] == -999)\n",
    "y_pred[mask] = predict_labels(w31, standardize_x31)\n",
    "\n",
    "create_csv_submission(ind, y_pred, 'prediction.csv')"
   ]
  },
  {
   "cell_type": "code",
   "execution_count": 176,
   "metadata": {
    "collapsed": true
   },
   "outputs": [],
   "source": [
    "test_y, test_x, ind = load_csv_data('higgs-data/test.csv')\n",
    "\n",
    "def make_submission_file(x, y, w, filename=\"prediction.csv\"):\n",
    "    y_pred = np.ones(len(y))\n",
    "    w0, w1, w2, w3 = w[0], w[1], w[2], w[3]\n",
    "    \n",
    "    # for PRI_JET_NUM = 0\n",
    "    mask         = (x[:, 22] == 0)\n",
    "    x_tmp        = x[mask, :]\n",
    "    x_tmp        = np.delete(x_tmp, [4, 5, 6, 11, 12, 15, 18, 20, 22, 23, 24, 25, 26, 27, 28, 29], 1)\n",
    "    stand_x      = standardize_with_power_terms(x_tmp, 2, True, with_sqrt=True)\n",
    "    y_pred[mask] = predict_labels(w0, stand_x)\n",
    "\n",
    "    # for PRI_JET_NUM = 1\n",
    "    mask         = (x[:, 22] == 1)\n",
    "    x_tmp        = x[mask, :]\n",
    "    x_tmp        = np.delete(x_tmp, [4, 5, 6, 11, 12, 15, 18, 20, 22, 26, 27, 28], 1)\n",
    "    stand_x      = standardize_with_power_terms(x_tmp, 2, True, with_sqrt=True)\n",
    "    y_pred[mask] = predict_labels(w1, stand_x)\n",
    "\n",
    "    # for PRI_JET_NUM = 2\n",
    "    mask         = (x[:, 22] == 2)\n",
    "    x_tmp        = x[mask, :]\n",
    "    x_tmp        = np.delete(x_tmp, [11, 15, 18, 20, 22, 28], 1)\n",
    "    stand_x      = standardize_with_power_terms(x_tmp, 2, True, with_sqrt=True)\n",
    "    y_pred[mask] = predict_labels(w2, stand_x)\n",
    "\n",
    "    # for PRI_JET_NUM = 3\n",
    "    mask         = x[:, 22] == 3\n",
    "    x_tmp        = x[mask, :]\n",
    "    x_tmp        = np.delete(x_tmp, [11, 15, 18, 20, 22, 28], 1)\n",
    "    stand_x      = standardize_with_power_terms(x_tmp, 2, True, with_sqrt=True)\n",
    "    y_pred[mask] = predict_labels(w3, stand_x)\n",
    "    \n",
    "    create_csv_submission(ind, y_pred, filename)"
   ]
  },
  {
   "cell_type": "markdown",
   "metadata": {},
   "source": [
    "### 5. Testing Logistic Regression"
   ]
  },
  {
   "cell_type": "code",
   "execution_count": 177,
   "metadata": {
    "collapsed": true
   },
   "outputs": [],
   "source": [
    "make_submission_file(test_x, test_y, ws_5, \"submission-logistic.csv\")"
   ]
  },
  {
   "cell_type": "code",
   "execution_count": null,
   "metadata": {
    "collapsed": true
   },
   "outputs": [],
   "source": []
  }
 ],
 "metadata": {
  "kernelspec": {
   "display_name": "Python 3",
   "language": "python",
   "name": "python3"
  },
  "language_info": {
   "codemirror_mode": {
    "name": "ipython",
    "version": 3
   },
   "file_extension": ".py",
   "mimetype": "text/x-python",
   "name": "python",
   "nbconvert_exporter": "python",
   "pygments_lexer": "ipython3",
   "version": "3.6.1"
  }
 },
 "nbformat": 4,
 "nbformat_minor": 2
}
