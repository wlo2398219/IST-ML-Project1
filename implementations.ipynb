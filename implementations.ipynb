{
 "cells": [
  {
   "cell_type": "code",
   "execution_count": 1,
   "metadata": {
    "collapsed": true
   },
   "outputs": [],
   "source": [
    "%matplotlib inline\n",
    "import numpy as np\n",
    "import matplotlib.pyplot as plt\n",
    "\n",
    "from scripts.proj1_helpers import *\n",
    "from scripts.preprocess import *\n",
    "\n",
    "from scripts.split_data import *\n",
    "from scripts.model_testing import *\n",
    "from scripts.cross_validation import *\n",
    "\n",
    "from scripts.implementations import least_squares_GD\n",
    "from scripts.implementations import least_squares_SGD\n",
    "from scripts.implementations import least_squares\n",
    "from scripts.implementations import ridge_regression\n",
    "from scripts.implementations import logistic_regression\n",
    "from scripts.implementations import reg_logistic_regression\n",
    "\n",
    "%load_ext autoreload\n",
    "%autoreload 2"
   ]
  },
  {
   "cell_type": "code",
   "execution_count": 2,
   "metadata": {
    "collapsed": true
   },
   "outputs": [],
   "source": [
    "# load data\n",
    "raw_y, raw_x, ind = load_csv_data('higgs-data/train.csv')"
   ]
  },
  {
   "cell_type": "markdown",
   "metadata": {},
   "source": [
    "## * Data Processing\n",
    "1. Based on PRI_JET_NUM (feature 22), which ranged in value of inclusive [0,4], we devide the training data into 4 sets. From each sets we obtain exactly one model (w0/w1/w2/w4). E.g. for PRI_JET_NUM=0 we will get w0.\n",
    "2. We standardize the data using power terms."
   ]
  },
  {
   "cell_type": "markdown",
   "metadata": {},
   "source": [
    "### Creating Subsets"
   ]
  },
  {
   "cell_type": "code",
   "execution_count": 3,
   "metadata": {
    "collapsed": true
   },
   "outputs": [],
   "source": [
    "def create_subsets(x, y):\n",
    "    sets_x = []\n",
    "    sets_y = []\n",
    "    for pri_jet_num_val in np.unique(x[:,22]):\n",
    "        indices = (x[:,22] == pri_jet_num_val)\n",
    "        x_tmp   = x[indices,:]\n",
    "        y_tmp   = y[indices]\n",
    "        \n",
    "        sets_x.append(x_tmp)\n",
    "        sets_y.append(y_tmp)\n",
    "    return sets_x, sets_y\n",
    "\n",
    "sets_x, sets_y = create_subsets(raw_x, raw_y)\n",
    "\n",
    "# Dataset 0 where PRI_JET_NUM = 0\n",
    "x0 = sets_x[0]\n",
    "y0 = sets_y[0]\n",
    "\n",
    "# Dataset 1 where PRI_JET_NUM = 1\n",
    "x1 = sets_x[1]\n",
    "y1 = sets_y[1]\n",
    "\n",
    "# Dataset 2 where PRI_JET_NUM = 2\n",
    "x2 = sets_x[2]\n",
    "y2 = sets_y[2]\n",
    "\n",
    "# Dataset 3 where PRI_JET_NUM = 3\n",
    "x3 = sets_x[3]\n",
    "y3 = sets_y[3]\n"
   ]
  },
  {
   "cell_type": "markdown",
   "metadata": {},
   "source": [
    "### Features Reduction"
   ]
  },
  {
   "cell_type": "code",
   "execution_count": 4,
   "metadata": {
    "collapsed": true
   },
   "outputs": [],
   "source": [
    "# if PRI_JET_NUM = 0\n",
    "# We drop features 4, 5, 6, 11, 12, 15, 18, 20, 22, 23, 24, 25, 26, 27, 28, 29 \n",
    "x0 = np.delete(x0, [4, 5, 6, 11, 12, 15, 18, 20, 22, 23, 24, 25, 26, 27, 28, 29], 1)\n",
    "\n",
    "# if PRI_JET_NUM = 1\n",
    "# We drop features 4, 5, 6, 11, 12, 15, 18, 20, 22, 26, 27, 28 \n",
    "x1 = np.delete(x1, [4, 5, 6, 11, 12, 15, 18, 20, 22, 26, 27, 28], 1)\n",
    "\n",
    "# if PRI_JET_NUM == 2 or PRI_JET_NUM == 3\n",
    "# We drop features 11, 15, 18, 20, 22, 28\n",
    "x2 = np.delete(x2, [11, 15, 18, 20, 22, 28], 1)\n",
    "x3 = np.delete(x3, [11, 15, 18, 20, 22, 28], 1)\n"
   ]
  },
  {
   "cell_type": "markdown",
   "metadata": {},
   "source": [
    "### Data Standarization Using Power Terms"
   ]
  },
  {
   "cell_type": "code",
   "execution_count": 8,
   "metadata": {
    "collapsed": true
   },
   "outputs": [],
   "source": [
    "standardize_x0 = standardize_with_power_terms(x0, 2, True, with_sqrt=True)\n",
    "\n",
    "standardize_x1 = standardize_with_power_terms(x1, 2, True, with_sqrt=True)\n",
    "\n",
    "standardize_x2 = standardize_with_power_terms(x2, 2, True, with_sqrt=True)\n",
    "\n",
    "standardize_x3 = standardize_with_power_terms(x3, 2, True, with_sqrt=True)\n"
   ]
  },
  {
   "cell_type": "markdown",
   "metadata": {},
   "source": [
    "# Main Implementations"
   ]
  },
  {
   "cell_type": "code",
   "execution_count": 9,
   "metadata": {
    "collapsed": true
   },
   "outputs": [],
   "source": [
    "# Final Datasets\n",
    "standardize_x = [standardize_x0, standardize_x1, standardize_x2, standardize_x3]\n",
    "sets_y        = [y0, y1, y2, y3]\n",
    "\n",
    "# Define the parameters of the algorithm.\n",
    "max_iters = 5000\n",
    "gamma     = 0.000002\n",
    "lambda_   = 0.000001"
   ]
  },
  {
   "cell_type": "markdown",
   "metadata": {},
   "source": [
    "## 1. Least Squares Using Gradient Descent"
   ]
  },
  {
   "cell_type": "code",
   "execution_count": 8,
   "metadata": {},
   "outputs": [
    {
     "name": "stdout",
     "output_type": "stream",
     "text": [
      "0.73913304575\n",
      "0.680697410502\n",
      "0.704063200937\n",
      "0.682097094387\n"
     ]
    }
   ],
   "source": [
    "ws_1 = []\n",
    "for x, y in zip(standardize_x, sets_y):\n",
    "    initial_w = np.zeros(x.shape[1])\n",
    "    w, loss   = least_squares_GD(y, x, initial_w, max_iters, gamma)\n",
    "    print(np.mean(predict_labels(w, x) == y))\n",
    "    ws_1.append(w)\n",
    "    "
   ]
  },
  {
   "cell_type": "markdown",
   "metadata": {},
   "source": [
    "## 2. Least Squares Using Stochastic Gradient Descent"
   ]
  },
  {
   "cell_type": "code",
   "execution_count": 9,
   "metadata": {},
   "outputs": [
    {
     "name": "stdout",
     "output_type": "stream",
     "text": [
      "0.738942880306\n",
      "0.680142886619\n",
      "0.704380793585\n",
      "0.682818985743\n"
     ]
    }
   ],
   "source": [
    "ws_2 = []\n",
    "for x, y in zip(standardize_x, sets_y):\n",
    "    initial_w = np.zeros(x.shape[1])\n",
    "    w, loss   = least_squares_SGD(y, x, initial_w, max_iters, gamma)\n",
    "    print(np.mean(predict_labels(w, x) == y))\n",
    "    ws_2.append(w)\n",
    "    "
   ]
  },
  {
   "cell_type": "markdown",
   "metadata": {},
   "source": [
    "## 3. Least Squares Using Normal Equations"
   ]
  },
  {
   "cell_type": "code",
   "execution_count": 10,
   "metadata": {},
   "outputs": [
    {
     "name": "stdout",
     "output_type": "stream",
     "text": [
      "0.833455105942\n",
      "0.775572578149\n",
      "0.804898866591\n",
      "0.802201768634\n"
     ]
    }
   ],
   "source": [
    "ws_3 = []\n",
    "for x, y in zip(standardize_x, sets_y):\n",
    "    w, loss = least_squares(y, x)\n",
    "    print(np.mean(predict_labels(w, x) == y))\n",
    "    ws_3.append(w)\n",
    "    "
   ]
  },
  {
   "cell_type": "markdown",
   "metadata": {},
   "source": [
    "## 4. Ridge Regression"
   ]
  },
  {
   "cell_type": "code",
   "execution_count": 24,
   "metadata": {},
   "outputs": [
    {
     "name": "stdout",
     "output_type": "stream",
     "text": [
      "0.833224905668\n",
      "0.775753120809\n",
      "0.804938565672\n",
      "0.801524995488\n"
     ]
    }
   ],
   "source": [
    "ws_4 = []\n",
    "for x, y in zip(standardize_x, sets_y):\n",
    "    w, loss = ridge_regression(y, x, lambda_)\n",
    "    print(np.mean(predict_labels(w, x) == y))\n",
    "    ws_4.append(w)\n",
    "    "
   ]
  },
  {
   "cell_type": "markdown",
   "metadata": {},
   "source": [
    "## 5. Logistic Regression using Gradient Descent"
   ]
  },
  {
   "cell_type": "code",
   "execution_count": 10,
   "metadata": {},
   "outputs": [
    {
     "name": "stdout",
     "output_type": "stream",
     "text": [
      "0.840361114169\n",
      "0.793975033529\n",
      "0.821393834733\n",
      "0.812218011189\n"
     ]
    }
   ],
   "source": [
    "ws_5 = []\n",
    "for x, y in zip(standardize_x, sets_y):\n",
    "    #map y to value of either zero or one\n",
    "    mapped_y = (y+1)/2\n",
    "    \n",
    "    initial_w = np.zeros(x.shape[1])\n",
    "    w, loss   = logistic_regression(mapped_y, x, initial_w, max_iters, gamma)\n",
    "    \n",
    "    print(np.mean(predict_labels(w, x) == y))\n",
    "    ws_5.append(w)\n",
    "    \n",
    "# 0.841021688869\n",
    "# 0.794929330445\n",
    "# 0.822048869569\n",
    "# 0.8136617939"
   ]
  },
  {
   "cell_type": "markdown",
   "metadata": {},
   "source": [
    "## 6. Regularized Logistic Regression using Gradient Descent"
   ]
  },
  {
   "cell_type": "code",
   "execution_count": 29,
   "metadata": {},
   "outputs": [
    {
     "name": "stdout",
     "output_type": "stream",
     "text": [
      "0.840991662747\n",
      "0.794955122253\n",
      "0.822068719109\n",
      "0.81361667569\n"
     ]
    }
   ],
   "source": [
    "ws_6 = []\n",
    "for x, y in zip(standardize_x, sets_y):\n",
    "    #map y to value of either zero or one\n",
    "    mapped_y = (y+1)/2\n",
    "    \n",
    "    initial_w = np.zeros(x.shape[1])\n",
    "    w, loss   = reg_logistic_regression(mapped_y, x, initial_w, max_iters, gamma, lambda_)\n",
    "    \n",
    "    print(np.mean(predict_labels(w, x) == y))\n",
    "    ws_6.append(w)\n",
    "    "
   ]
  },
  {
   "cell_type": "markdown",
   "metadata": {},
   "source": [
    "# Testing and Make Submission to Kaggle"
   ]
  },
  {
   "cell_type": "code",
   "execution_count": 31,
   "metadata": {
    "collapsed": true
   },
   "outputs": [],
   "source": [
    "test_y, test_x, ind = load_csv_data('higgs-data/test.csv')\n",
    "\n",
    "def make_submission_file(x, y, w, filename=\"prediction.csv\"):\n",
    "    y_pred = np.ones(len(y))\n",
    "    w0, w1, w2, w3 = w[0], w[1], w[2], w[3]\n",
    "    \n",
    "    # for PRI_JET_NUM = 0\n",
    "    mask         = (x[:, 22] == 0)\n",
    "    x_tmp        = x[mask, :]\n",
    "    x_tmp        = np.delete(x_tmp, [4, 5, 6, 11, 12, 15, 18, 20, 22, 23, 24, 25, 26, 27, 28, 29], 1)\n",
    "    stand_x      = standardize_with_power_terms(x_tmp, 2, True, with_sqrt=True)\n",
    "    y_pred[mask] = predict_labels(w0, stand_x)\n",
    "\n",
    "    # for PRI_JET_NUM = 1\n",
    "    mask         = (x[:, 22] == 1)\n",
    "    x_tmp        = x[mask, :]\n",
    "    x_tmp        = np.delete(x_tmp, [4, 5, 6, 11, 12, 15, 18, 20, 22, 26, 27, 28], 1)\n",
    "    stand_x      = standardize_with_power_terms(x_tmp, 2, True, with_sqrt=True)\n",
    "    y_pred[mask] = predict_labels(w1, stand_x)\n",
    "\n",
    "    # for PRI_JET_NUM = 2\n",
    "    mask         = (x[:, 22] == 2)\n",
    "    x_tmp        = x[mask, :]\n",
    "    x_tmp        = np.delete(x_tmp, [11, 15, 18, 20, 22, 28], 1)\n",
    "    stand_x      = standardize_with_power_terms(x_tmp, 2, True, with_sqrt=True)\n",
    "    y_pred[mask] = predict_labels(w2, stand_x)\n",
    "\n",
    "    # for PRI_JET_NUM = 3\n",
    "    mask         = x[:, 22] == 3\n",
    "    x_tmp        = x[mask, :]\n",
    "    x_tmp        = np.delete(x_tmp, [11, 15, 18, 20, 22, 28], 1)\n",
    "    stand_x      = standardize_with_power_terms(x_tmp, 2, True, with_sqrt=True)\n",
    "    y_pred[mask] = predict_labels(w3, stand_x)\n",
    "    \n",
    "    create_csv_submission(ind, y_pred, filename)"
   ]
  },
  {
   "cell_type": "markdown",
   "metadata": {},
   "source": [
    "### 5. Testing Logistic Regression"
   ]
  },
  {
   "cell_type": "code",
   "execution_count": 32,
   "metadata": {
    "collapsed": true
   },
   "outputs": [],
   "source": [
    "make_submission_file(test_x, test_y, ws_5, \"submission-logistic.csv\")"
   ]
  },
  {
   "cell_type": "code",
   "execution_count": null,
   "metadata": {
    "collapsed": true
   },
   "outputs": [],
   "source": []
  }
 ],
 "metadata": {
  "kernelspec": {
   "display_name": "Python 3",
   "language": "python",
   "name": "python3"
  },
  "language_info": {
   "codemirror_mode": {
    "name": "ipython",
    "version": 3
   },
   "file_extension": ".py",
   "mimetype": "text/x-python",
   "name": "python",
   "nbconvert_exporter": "python",
   "pygments_lexer": "ipython3",
   "version": "3.6.1"
  }
 },
 "nbformat": 4,
 "nbformat_minor": 2
}
